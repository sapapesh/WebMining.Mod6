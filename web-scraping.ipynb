{
 "cells": [
  {
   "cell_type": "markdown",
   "metadata": {},
   "source": [
    "# Web Mining and Applied NLP (44-620)\n",
    "\n",
    "## Web Scraping and NLP with Requests, BeautifulSoup, and spaCy\n",
    "\n",
    "### Student Name: Sarah Howard\n",
    "\n",
    "### Github Repository: https://github.com/sapapesh/WebMining.Mod6\n",
    "\n",
    "Perform the tasks described in the Markdown cells below.  When you have completed the assignment make sure your code cells have all been run (and have output beneath them) and ensure you have committed and pushed ALL of your changes to your assignment repository.\n",
    "\n",
    "Every question that requires you to write code will have a code cell underneath it; you may either write your entire solution in that cell or write it in a python file (`.py`), then import and run the appropriate code to answer the question."
   ]
  },
  {
   "cell_type": "markdown",
   "metadata": {},
   "source": [
    "### Question 1"
   ]
  },
  {
   "cell_type": "markdown",
   "metadata": {},
   "source": [
    "1. Write code that extracts the article html from https://web.archive.org/web/20210327165005/https://hackaday.com/2021/03/22/how-laser-headlights-work/ and dumps it to a .pkl (or other appropriate file)"
   ]
  },
  {
   "cell_type": "code",
   "execution_count": 1,
   "metadata": {},
   "outputs": [
    {
     "name": "stdout",
     "output_type": "stream",
     "text": [
      "Article HTML saved to article_content.pkl\n"
     ]
    }
   ],
   "source": [
    "import requests\n",
    "from bs4 import BeautifulSoup\n",
    "import pickle\n",
    "\n",
    "# Define the URL to fetch the article HTML from\n",
    "url = \"https://web.archive.org/web/20210327165005/https://hackaday.com/2021/03/22/how-laser-headlights-work/\"\n",
    "\n",
    "# Send a GET request to fetch the page content\n",
    "response = requests.get(url)\n",
    "\n",
    "# Check if the request was successful\n",
    "if response.status_code == 200:\n",
    "    # Parse the HTML content with BeautifulSoup\n",
    "    soup = BeautifulSoup(response.content, 'html.parser')\n",
    "    \n",
    "    # Extract the article's HTML content (you can target specific parts of the page if needed)\n",
    "    article_html = soup.prettify()  # This gives the entire HTML structure in a readable format\n",
    "\n",
    "    # Define the filename to save the pickle\n",
    "    output_filename = \"article_content.pkl\"\n",
    "\n",
    "    # Save the HTML to a .pkl file using pickle\n",
    "    with open(output_filename, 'wb') as f:\n",
    "        pickle.dump(article_html, f)\n",
    "    \n",
    "    print(f\"Article HTML saved to {output_filename}\")\n",
    "else:\n",
    "    print(f\"Failed to retrieve the webpage. Status code: {response.status_code}\")\n"
   ]
  },
  {
   "cell_type": "markdown",
   "metadata": {},
   "source": [
    "### Question 2"
   ]
  },
  {
   "cell_type": "markdown",
   "metadata": {},
   "source": [
    "2. Read in your article's html source from the file you created in question 1 and print it's text (use `.get_text()`)"
   ]
  },
  {
   "cell_type": "code",
   "execution_count": 4,
   "metadata": {},
   "outputs": [
    {
     "name": "stdout",
     "output_type": "stream",
     "text": [
      "\n",
      "\n",
      "\n",
      "         How Laser Headlights Work\n",
      "        \n",
      "\n",
      "\n",
      "\n",
      "\n",
      "          130 Comments\n",
      "         \n",
      "\n",
      "\n",
      "           by:\n",
      "          \n",
      "\n",
      "\n",
      "            Lewin Day\n",
      "           \n",
      "\n",
      "\n",
      "\n",
      "\n",
      "\n",
      "\n",
      "\n",
      "           March 22, 2021\n",
      "          \n",
      "\n",
      "\n",
      "\n",
      "\n",
      "\n",
      "\n",
      "\n",
      "\n",
      "\n",
      "\n",
      "\n",
      "\n",
      "\n",
      "\n",
      "\n",
      "\n",
      "\n",
      "\n",
      "\n",
      "\n",
      "\n",
      "\n",
      "\n",
      "\n",
      "         When we think about the onward march of automotive technology, headlights aren’t usually the first thing that come to mind. Engines, fuel efficiency, and the switch to electric power are all more front of mind. However, that doesn’t mean there aren’t thousands of engineers around the world working to improve the state of the art in automotive lighting day in, day out.\n",
      "        \n",
      "\n",
      "         Sealed beam headlights gave way to more modern designs once regulations loosened up, while bulbs moved from simple halogens to xenon HIDs and, more recently, LEDs. Now, a new technology is on the scene, with lasers!\n",
      "        \n",
      "\n",
      "\n",
      "\n",
      "\n",
      "\n",
      "         Laser Headlights?!\n",
      "        \n",
      "\n",
      "\n",
      "\n",
      "           BWM’s prototype laser headlight assemblies undergoing testing.\n",
      "          \n",
      "\n",
      "\n",
      "         The first image brought to mind by the phrase “laser headlights” is that of laser beams firing out the front of an automobile. Obviously, coherent beams of monochromatic light would make for poor illumination outside of a very specific spot quite some distance away. Thankfully for our eyes, laser headlights don’t work in this way at all.\n",
      "        \n",
      "\n",
      "         Instead, laser headlights consist of one or more solid state laser diodes mounted inside the headlight. These blue lasers are fired at a yellow phosphor, similar to that used in white LEDs. This produces a powerful, vibrant white light that can then be bounced off reflectors and out of the headlights towards the road. Laser headlights built in this way have several benefits. They’re more energy efficient than LEDs that put out the same amount of light, while also being more space efficient, too.\n",
      "        \n",
      "\n",
      "\n",
      "\n",
      "           BWM’s futuristic i8 was one of the first vehicles to ship with laser headlight technology.\n",
      "          \n",
      "\n",
      "\n",
      "         Laser headlights are still a nascent technology, thus far only appearing in a few BMW, Audi, and other select vehicles.\n",
      "         \n",
      "          BMW’s technology was developed in partnership with lighting experts OSRAM\n",
      "         \n",
      "         . In practice, a regular LED low-beam lamp is used, with the laser used to create an incredibly bright and focused spot, used for high-beams. This can provide illumination out to 600 meters ahead of the vehicle, double that of conventional LED high beams. The lights use indium gallium nitride diode lasers that were originally used in projectors, with power levels above 1 watt. One of the challenges in implementing such technology in an automotive environment is the need for it to operate at temperature extremes. While research lasers and laser pointers may primarily be used at typical room temperatures, automotive headlights must be able to withstand everything from 40 degrees below zero up to 50 degrees C. Thankfully, the laser’s high efficiency means it doesn’t have huge heat output of its own to further complicate things. Other engineering challenges involve tailoring the optics package for the rough-and-tumble, high vibration environment found in the automotive application. It’s also important to ensure, as with any such device, that the end user can’t be exposed to harmful laser radiation in the event of accident or malfunction.\n",
      "        \n",
      "\n",
      "         Tearing Down the Laser Headlight\n",
      "        \n",
      "\n",
      "\n",
      "\n",
      "          A marketing image showing the construction of an aftermarket LED/laser headlight. We’d take the laser power with a grain of salt — it’s difficult to imagine a 10 W laser shining directly on some small LEDs without melting a hole through the board in short order.\n",
      "         \n",
      "\n",
      "\n",
      "         An aftermarket has sprung up too, with delightfully innovative designs. Combined laser/LED headlights are readily available on Alibaba,\n",
      "         \n",
      "          designed as a drop in replacement for projector lamps on existing vehicles.\n",
      "         \n",
      "         These often use an LED low-beam, and a combined LED/laser high beam, where the laser diode shoots directly at the LED phosphor to excite it further, rather than using its own. These units often also come with fan cooling to keep the laser and LEDs below their maximum operational temperature. Such developments are exciting, though it’s important to be wary of the performance of unknown aftermarket headlights.\n",
      "         \n",
      "          Many aftermarket LED headlight “upgrades” fail to pass muster\n",
      "         \n",
      "         when it comes to real-world performance, and there’s no reason to believe hybrid LED/laser designs will be any different. We’d love to pass a selection of these parts through\n",
      "         \n",
      "          a full IIHS test protocol\n",
      "         \n",
      "         , but that’s sadly beyond the scope (and budget!) of this article.\n",
      "        \n",
      "\n",
      "         However, [mikeselectricstuff] has happened to lay his hands on both the BMW and aftermarket parts,\n",
      "         \n",
      "          tearing them all down in his workshop to see what makes them tick.\n",
      "         \n",
      "         The differences are multitude when laid bare on the bench. The AliExpress part is relatively simple, wired up no differently from a regular headlight. Interestingly, however, the laser high-beam circuit runs all the time in these parts. To prevent blinding other road users, a shutter is kept in place to block the light, which is moved out of the way with a solenoid when the driver turns on the high beam switch.\n",
      "        \n",
      "\n",
      "         Where the aftermarket part is a little out of left field, the BMW design is another thing entirely. The cutting-edge headlights are hooked up with multiple connectors and over 30 conductors, with much of the driver electronics living in an external controller. Much of this is to drive the various LEDs and stepper motors for slewing the headlights when steering. However, the laser assembly brings its own complexities. Twin light sensors are built inside to monitor the laser beam, and a special metal blocking arm sits directly in front of the diode, presumably to stop the laser light leaving the headlight in the event the phosphor coating burns through. It’s truly wild to get a look inside a modern luxury car’s headlight and see just how far we’ve come from the old days of simple sealed beams.\n",
      "        \n",
      "\n",
      "         Cost Versus Performance\n",
      "        \n",
      "\n",
      "         Despite the efficiency gains available, the technology remains expensive. Powerful laser diodes don’t come cheap, after all. However, as the technology trickles down to lower-end models, it’s likely that we could see economies of scale change that for the better. Indeed, if national authorities begin to demand higher performance headlights as standard, we could see laser headlights become the norm, rather than an expensive luxury. The technology could naturally be applied to home and commercial lighting, too — though we suspect the potential gains are limited enough that LED lighting will remain the norm for some time to come.\n",
      "        \n",
      "\n",
      "\n",
      "\n",
      "          The high light output of laser headlights in a compact package allows engineers greater freedom when designing the front-end of a car.\n",
      "         \n",
      "\n",
      "\n",
      "         As it currently stands, much of the appeal of the new technology is about the packaging benefits, which allow automotive designers greater freedom around the headlight area. Such concerns are less of a factor when it comes to light fittings in the home or office, or indeed, on lower-end automobiles. Regardless, it’s an exciting new application for lasers and one we’ll be sure to see more of in the future.\n",
      "        \n",
      "\n",
      "\n",
      "\n",
      "\n",
      "\n",
      "\n",
      "\n",
      "\n",
      "\n",
      "\n",
      "\n",
      "\n",
      "\n",
      "\n",
      "\n",
      "\n",
      "\n",
      "\n",
      "\n",
      "\n",
      "\n",
      "\n",
      "\n",
      "\n",
      "\n",
      "\n",
      "\n",
      "\n",
      "\n",
      "\n",
      "\n",
      "\n",
      "\n",
      "\n",
      "\n",
      "\n",
      "         Posted in\n",
      "         \n",
      "          car hacks\n",
      "         \n",
      "         ,\n",
      "         \n",
      "          Engineering\n",
      "         \n",
      "         ,\n",
      "         \n",
      "          Featured\n",
      "         \n",
      "         ,\n",
      "         \n",
      "          Laser Hacks\n",
      "         \n",
      "         ,\n",
      "         \n",
      "          Slider\n",
      "         \n",
      "\n",
      "\n",
      "         Tagged\n",
      "         \n",
      "          laser\n",
      "         \n",
      "         ,\n",
      "         \n",
      "          laser headlight\n",
      "         \n",
      "         ,\n",
      "         \n",
      "          laser headlights\n",
      "         \n",
      "         ,\n",
      "         \n",
      "          light\n",
      "         \n",
      "\n",
      "\n",
      "\n",
      "\n",
      "\n"
     ]
    }
   ],
   "source": [
    "# read in HTML content form pkl file\n",
    "with open('article_content.pkl', 'rb') as f:\n",
    "    article_content = pickle.load(f)\n",
    "\n",
    "# find article text \n",
    "article_content = soup.find('article')\n",
    "\n",
    "# print article text \n",
    "print(article_content.get_text())\n"
   ]
  },
  {
   "cell_type": "markdown",
   "metadata": {},
   "source": [
    "### Question 3"
   ]
  },
  {
   "cell_type": "markdown",
   "metadata": {},
   "source": [
    "3. Load the article text into a trained `spaCy` pipeline, and determine the 5 most frequent tokens (converted to lower case).  Print the common tokens with an appropriate label.  Additionally, print the tokens their frequencies (with appropriate labels). Make sure to remove things we don't care about (punctuation, stopwords, whitespace)."
   ]
  },
  {
   "cell_type": "code",
   "execution_count": 40,
   "metadata": {},
   "outputs": [
    {
     "name": "stdout",
     "output_type": "stream",
     "text": [
      "Top 5 Most Frequent Tokens:\n",
      "Token: 'hacks', Frequency: 76\n",
      "Token: 'light', Frequency: 68\n",
      "Token: 'laser', Frequency: 63\n",
      "Token: 'headlights', Frequency: 56\n",
      "Token: 'led', Frequency: 41\n"
     ]
    }
   ],
   "source": [
    "# Load the spaCy model\n",
    "nlp = spacy.load(\"en_core_web_sm\")\n",
    "\n",
    "# Process the article text with the spaCy pipeline\n",
    "doc = nlp(article_text)\n",
    "\n",
    "#Identify custom_stopwords\n",
    "custom_stopwords = {'comment', 'reply', 'march', '2021', 'hack', 'say', 'says', 'report'}\n",
    "\n",
    "# Define the tokens we care about\n",
    "def we_care_about(token):\n",
    "    return not (\n",
    "        token.is_space or \n",
    "        token.is_punct or \n",
    "        token.is_stop or \n",
    "        token.text.lower() in custom_stopwords or \n",
    "        token.like_num  # Exclude numbers\n",
    "    )\n",
    "\n",
    "# Get the interesting tokens (filtered tokens)\n",
    "interesting_tokens = [token for token in doc if we_care_about(token)]\n",
    "\n",
    "# Create a frequency count of the interesting tokens (converted to lowercase)\n",
    "word_freq = Counter(map(lambda token: str(token).lower(), interesting_tokens))\n",
    "\n",
    "# Get the 5 most common tokens\n",
    "mostFreqtokens = word_freq.most_common(5)\n",
    "\n",
    "# Print the common tokens and their frequencies\n",
    "print(\"Top 5 Most Frequent Tokens:\")\n",
    "for token, freq in mostFreqtokens:\n",
    "    print(f\"Token: '{token}', Frequency: {freq}\")"
   ]
  },
  {
   "cell_type": "markdown",
   "metadata": {},
   "source": [
    "### Question 4"
   ]
  },
  {
   "cell_type": "markdown",
   "metadata": {},
   "source": [
    "4. Load the article text into a trained `spaCy` pipeline, and determine the 5 most frequent lemmas (converted to lower case).  Print the common lemmas with an appropriate label.  Additionally, print the lemmas with their frequencies (with appropriate labels). Make sure to remove things we don't care about (punctuation, stopwords, whitespace)."
   ]
  },
  {
   "cell_type": "code",
   "execution_count": 41,
   "metadata": {},
   "outputs": [
    {
     "name": "stdout",
     "output_type": "stream",
     "text": [
      "Top 5 Most Frequent Lemmas:\n",
      "Lemma: 'light', Frequency: 99\n",
      "Lemma: 'headlight', Frequency: 73\n",
      "Lemma: 'laser', Frequency: 72\n",
      "Lemma: 'car', Frequency: 63\n",
      "Lemma: 'beam', Frequency: 53\n"
     ]
    }
   ],
   "source": [
    "# Extract the lemmas (base forms) of the interesting tokens\n",
    "lemmas = [token.lemma_.lower() for token in interesting_tokens]\n",
    "\n",
    "# Create a frequency count of the lemmas\n",
    "lemma_freq = Counter(lemmas)\n",
    "\n",
    "# Get the 5 most common lemmas\n",
    "most_common_lemmas = lemma_freq.most_common(5)\n",
    "\n",
    "# Print the common lemmas and their frequencies\n",
    "print(\"Top 5 Most Frequent Lemmas:\")\n",
    "for lemma, freq in most_common_lemmas:\n",
    "    print(f\"Lemma: '{lemma}', Frequency: {freq}\")"
   ]
  },
  {
   "cell_type": "markdown",
   "metadata": {},
   "source": [
    "### Question 5"
   ]
  },
  {
   "cell_type": "markdown",
   "metadata": {},
   "source": [
    "5. Define the following methods:\n",
    "    * `score_sentence_by_token(sentence, interesting_token)` that takes a sentence and a list of interesting token and returns the number of times that any of the interesting words appear in the sentence divided by the number of words in the sentence\n",
    "    * `score_sentence_by_lemma(sentence, interesting_lemmas)` that takes a sentence and a list of interesting lemmas and returns the number of times that any of the interesting lemmas appear in the sentence divided by the number of words in the sentence\n",
    "    \n",
    "You may find some of the code from the in class notes useful; feel free to use methods (rewrite them in this cell as well).  Test them by showing the score of the first sentence in your article using the frequent tokens and frequent lemmas identified in question 3."
   ]
  },
  {
   "cell_type": "code",
   "execution_count": null,
   "metadata": {},
   "outputs": [
    {
     "name": "stdout",
     "output_type": "stream",
     "text": [
      "5 :   How Laser Headlights Work | Hackaday    Skip to content     Hackaday      Primary Menu       Home         Blog         Hackaday.io         Tindie         Hackaday Prize         Submit         About          Search for:         March 27, 2021        How Laser Headlights Work         130 Comments          by:           Lewin Day           March 22, 2021          When we think about the onward march of automotive technology, headlights aren’t usually the first thing that come to mind.\n",
      "First sentence token score: 0.060240963855421686\n",
      "First sentence lemma score: 0.012048192771084338\n"
     ]
    }
   ],
   "source": [
    "# Store frequent tokens and lemmas in a set\n",
    "cool_tokens = set()\n",
    "for token, freq in mostFreqtokens:\n",
    "    cool_tokens.add(token)\n",
    "\n",
    "cool_lemmas = set()\n",
    "for lemma, freq in most_common_lemmas:\n",
    "    cool_lemmas.add(lemma)\n",
    "\n",
    "# Get the first sentence in the article\n",
    "first_sentence = list(doc.sents)[0]\n",
    "count = 0\n",
    "for token in first_sentence:\n",
    "    if token.text.lower() in cool_tokens:\n",
    "        count += 1\n",
    "\n",
    "# Remove the junk newlines and replace with nothing\n",
    "sent_str = str(first_sentence).replace('\\n', '').replace('  ', ' ')\n",
    "\n",
    "# Print the count and the sentence text\n",
    "print(count, \":\", sent_str)\n",
    "\n",
    "# Method to score by token\n",
    "def score_sentence_by_token(sentence, interesting_tokens):\n",
    "    sentence_text = sentence.text\n",
    "    doc = nlp(sentence_text)\n",
    "    token_count = sum(1 for token in doc if token.text.lower() in interesting_tokens)\n",
    "    tokens_score = token_count / len(doc)\n",
    "    return tokens_score\n",
    "\n",
    "# Method to score by lemma\n",
    "def score_sentence_by_lemma(sentence, interesting_lemmas):\n",
    "    sentence_text = sentence.text\n",
    "    doc = nlp(sentence_text)\n",
    "    lemma_count = sum(1 for token in doc if token.lemma_ in interesting_lemmas)\n",
    "    lemma_score = lemma_count / len(doc)\n",
    "    return lemma_score\n",
    "\n",
    "# Calculate scores for the first sentence\n",
    "token_score = score_sentence_by_token(first_sentence, cool_tokens)\n",
    "lemma_score = score_sentence_by_lemma(first_sentence, cool_lemmas)\n",
    "\n",
    "# Print the scores\n",
    "print(f\"First sentence token score: {token_score}\")\n",
    "print(f\"First sentence lemma score: {lemma_score}\")"
   ]
  },
  {
   "cell_type": "markdown",
   "metadata": {},
   "source": [
    "### Question 6"
   ]
  },
  {
   "cell_type": "markdown",
   "metadata": {},
   "source": [
    "6. Make a list containing the scores (using tokens) of every sentence in the article, and plot a histogram with appropriate titles and axis labels of the scores. From your histogram, what seems to be the most common range of scores (put the answer in a comment after your code)?"
   ]
  },
  {
   "cell_type": "code",
   "execution_count": 75,
   "metadata": {},
   "outputs": [
    {
     "data": {
      "image/png": "[encoded data removed]",
      "text/plain": [
       "<Figure size 1200x600 with 1 Axes>"
      ]
     },
     "metadata": {},
     "output_type": "display_data"
    }
   ],
   "source": [
    "import matplotlib.pyplot as plt\n",
    "import numpy as np\n",
    "\n",
    "# Add in html with .pkl identifier\n",
    "input_file =\"article_content.pkl\"\n",
    "with open(input_file, \"rb\") as f:\n",
    "    article_content = pickle.load(f)\n",
    "\n",
    "# Extract the text, use Beautifulsoup to parse html\n",
    "soup = BeautifulSoup(article_content, 'html.parser')\n",
    "article_text = soup.get_text()\n",
    "\n",
    "# Interesting tokens from question 3\n",
    "interesting_tokens = [\"hacks\", \"lights\", \"laser\", \"headlights\", \"led\"]\n",
    "\n",
    "# Load the spaCy model\n",
    "nlp = spacy.load(\"en_core_web_sm\")\n",
    "# Process the article\n",
    "doc = nlp(article_text)\n",
    "\n",
    "# Method to score by token\n",
    "def score_sentence_by_token(sentence, interesting_tokens):\n",
    "    tokens = [token.text.lower() for token in sentence if not token.is_punct and not token.is_space]\n",
    "    if len(tokens) == 0:\n",
    "        return 0\n",
    "    interesting_count = sum(1 for token in tokens if token in interesting_tokens)\n",
    "    return interesting_count / len(tokens)\n",
    "\n",
    "# List to store token scores of each sentence\n",
    "token_scores = []\n",
    "\n",
    "# Get scores for all sentences in the article\n",
    "for sentence in doc.sents:\n",
    "    score = score_sentence_by_token(sentence, interesting_tokens)\n",
    "    token_scores.append(score)\n",
    "\n",
    "# Plot the histogram\n",
    "plt.figure(figsize=(12,6))\n",
    "plt.hist(token_scores, bins=20, color='blue')\n",
    "plt.title(\"Histogram of Token Scores for Each Sentence\")\n",
    "plt.xlabel(\"Token Score\")\n",
    "plt.ylabel(\"Frequency\")\n",
    "plt.grid(True)\n",
    "plt.show()\n",
    "\n",
    "## The most common range of scores seems to be 0.0 to 0.2.\n",
    "\n"
   ]
  },
  {
   "cell_type": "markdown",
   "metadata": {},
   "source": [
    "### Question 7"
   ]
  },
  {
   "cell_type": "markdown",
   "metadata": {},
   "source": [
    "7. Make a list containing the scores (using lemmas) of every sentence in the article, and plot a histogram with appropriate titles and axis labels of the scores.  From your histogram, what seems to be the most common range of scores (put the answer in a comment after your code)?"
   ]
  },
  {
   "cell_type": "code",
   "execution_count": 74,
   "metadata": {},
   "outputs": [
    {
     "data": {
      "image/png": "[encoded data removed]",
      "text/plain": [
       "<Figure size 1200x600 with 1 Axes>"
      ]
     },
     "metadata": {},
     "output_type": "display_data"
    }
   ],
   "source": [
    "# Interesting lemmas from question 4\n",
    "interesting_lemma = [\"light\", \"headlight\", \"laser\", \"car\", \"beam\"]\n",
    "\n",
    "# Load the spaCy model\n",
    "nlp = spacy.load(\"en_core_web_sm\")\n",
    "# Process the article\n",
    "doc = nlp(article_text)\n",
    "\n",
    "# Method to score by lemma\n",
    "def score_sentence_by_lemma(sentence, interesting_lemma):\n",
    "    lemma = [lemma.text.lower() for lemma in sentence if not lemma.is_punct and not lemma.is_space]\n",
    "    if len(lemma) == 0:\n",
    "        return 0\n",
    "    interesting_count = sum(1 for lemma in lemma if lemma in interesting_lemma)\n",
    "    return interesting_lemma / len(lemma)\n",
    "\n",
    "# List to store lemma scores of each sentence\n",
    "lemma_scores = []\n",
    "\n",
    "# Get scores for all sentences in the article\n",
    "for sentence in doc.sents:\n",
    "    score = score_sentence_by_token(sentence, interesting_lemma)\n",
    "    lemma_scores.append(score)\n",
    "\n",
    "# Plot the histogram\n",
    "plt.figure(figsize=(12,6))\n",
    "plt.hist(lemma_scores, bins=20, color='blue')\n",
    "plt.title(\"Histogram of Lemma Scores for Each Sentence\")\n",
    "plt.xlabel(\"Lemma Score\")\n",
    "plt.ylabel(\"Frequency\")\n",
    "plt.grid(True)\n",
    "plt.show()\n",
    "\n",
    "## The most common range of scores seems to be 0.0 to 0.1"
   ]
  },
  {
   "cell_type": "markdown",
   "metadata": {},
   "source": [
    "8. Which tokens and lexems would be ommitted from the lists generated in questions 3 and 4 if we only wanted to consider nouns as interesting words?  How might we change the code to only consider nouns? Put your answer in this Markdown cell (you can edit it by double clicking it)."
   ]
  }
 ],
 "metadata": {
  "kernelspec": {
   "display_name": ".venv",
   "language": "python",
   "name": "python3"
  },
  "language_info": {
   "codemirror_mode": {
    "name": "ipython",
    "version": 3
   },
   "file_extension": ".py",
   "mimetype": "text/x-python",
   "name": "python",
   "nbconvert_exporter": "python",
   "pygments_lexer": "ipython3",
   "version": "3.12.3"
  }
 },
 "nbformat": 4,
 "nbformat_minor": 4
}
